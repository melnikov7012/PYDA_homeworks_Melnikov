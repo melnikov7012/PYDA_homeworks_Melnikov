{
 "cells": [
  {
   "cell_type": "markdown",
   "metadata": {},
   "source": [
    "**Задание 1**. Дан список с визитами по городам и странам. \n",
    "Напишите код, который возвращает отфильтрованный список geo_logs, содержащий только визиты из России."
   ]
  },
  {
   "cell_type": "code",
   "execution_count": 13,
   "metadata": {},
   "outputs": [],
   "source": [
    "geo_logs = [\n",
    "    {'visit1': ['Москва', 'Россия']},\n",
    "    {'visit2': ['Дели', 'Индия']},\n",
    "    {'visit3': ['Владимир', 'Россия']},\n",
    "    {'visit4': ['Лиссабон', 'Португалия']},\n",
    "    {'visit5': ['Париж', 'Франция']},\n",
    "    {'visit6': ['Лиссабон', 'Португалия']},\n",
    "    {'visit7': ['Тула', 'Россия']},\n",
    "    {'visit8': ['Тула', 'Россия']},\n",
    "    {'visit9': ['Курск', 'Россия']},\n",
    "    {'visit10': ['Архангельск', 'Россия']}\n",
    "]"
   ]
  },
  {
   "cell_type": "code",
   "execution_count": 14,
   "metadata": {},
   "outputs": [
    {
     "name": "stdout",
     "output_type": "stream",
     "text": [
      "{'visit1': ['Москва', 'Россия']}\n",
      "{'visit3': ['Владимир', 'Россия']}\n",
      "{'visit7': ['Тула', 'Россия']}\n",
      "{'visit8': ['Тула', 'Россия']}\n",
      "{'visit9': ['Курск', 'Россия']}\n",
      "{'visit10': ['Архангельск', 'Россия']}\n"
     ]
    }
   ],
   "source": [
    "for rus_visit in geo_logs:\n",
    "    for value in rus_visit.items():\n",
    "        if 'Россия' in value[1]:\n",
    "            print(rus_visit)"
   ]
  },
  {
   "cell_type": "markdown",
   "metadata": {},
   "source": [
    "**Задание 2**. Выведите на экран все уникальные гео-ID из значений словаря ids. Т. е. список вида [213, 15, 54, 119, 98, 35]"
   ]
  },
  {
   "cell_type": "code",
   "execution_count": 15,
   "metadata": {},
   "outputs": [],
   "source": [
    "ids = {'user1': [213, 213, 213, 15, 213], \n",
    "       'user2': [54, 54, 119, 119, 119], \n",
    "       'user3': [213, 98, 98, 35]}"
   ]
  },
  {
   "cell_type": "code",
   "execution_count": 20,
   "metadata": {},
   "outputs": [
    {
     "name": "stdout",
     "output_type": "stream",
     "text": [
      "{213: None, 15: None, 54: None, 119: None, 98: None, 35: None}\n",
      "[213, 15, 54, 119, 98, 35]\n"
     ]
    }
   ],
   "source": [
    "geo_dict = {}\n",
    "for value in ids.values():\n",
    "    for enumeration in value:          \n",
    "        geo_dict.setdefault(enumeration)\n",
    "        geo_list = list(geo_dict)\n",
    "print(geo_dict)\n",
    "print(geo_list)\n",
    "    "
   ]
  },
  {
   "cell_type": "markdown",
   "metadata": {},
   "source": [
    "**Задание 3**. Дан список поисковых запросов. Получить распределение количества слов в них. \n",
    "Т. е. поисковых запросов из одного - слова 5%, из двух - 7%, из трех - 3% и т.д."
   ]
  },
  {
   "cell_type": "code",
   "execution_count": 21,
   "metadata": {},
   "outputs": [],
   "source": [
    "queries = [\n",
    "    'смотреть сериалы онлайн',\n",
    "    'новости спорта',\n",
    "    'афиша кино',\n",
    "    'курс доллара',\n",
    "    'сериалы этим летом',\n",
    "    'курс по питону',\n",
    "    'сериалы про спорт',\n",
    "]\n"
   ]
  },
  {
   "cell_type": "code",
   "execution_count": 22,
   "metadata": {},
   "outputs": [
    {
     "name": "stdout",
     "output_type": "stream",
     "text": [
      "Кол-во слов в запросе: 3; Процент от общего кол-ва запросов:  57.14 %\n",
      "Кол-во слов в запросе: 2; Процент от общего кол-ва запросов:  42.86 %\n",
      "{3: 4, 2: 3}\n",
      "7\n",
      "{3: 57.14, 2: 42.86}\n"
     ]
    }
   ],
   "source": [
    "\n",
    "ZAPROS = {}               # key - кол-во слов в запросе, value - кол-во запросов\n",
    "ZAPROS_PERCENT = {}          # key - кол-во слов в запросе, value - Процент от общего кол-ва запросов\n",
    "num_zapr = 0               # Счетчик кол-ва всех запросов\n",
    "for enumeration in queries:\n",
    "    num_zapr += 1         \n",
    "    num_words = 1              # Кол-во слов в запросе\n",
    "    for letter in enumeration:\n",
    "        if letter == \" \":    # Поиск пробелов между словами\n",
    "            num_words += 1\n",
    "    if num_words not in ZAPROS:\n",
    "        ZAPROS.setdefault(num_words,1)\n",
    "    else:\n",
    "        ZAPROS[num_words] += 1\n",
    "\n",
    "for key,value in ZAPROS.items():\n",
    "    ZAPROS_PERCENT.setdefault(key,round((value * 100 / num_zapr), 2))\n",
    "    print(f\"{'Кол-во слов в запросе:'} {key}; {'Процент от общего кол-ва запросов:'}  \\\n",
    "{round((value * 100 / num_zapr), 2)} {'%'}\")\n",
    "        \n",
    "print(ZAPROS)\n",
    "print(num_zapr)         \n",
    "print(ZAPROS_PERCENT)\n",
    "\n",
    "    "
   ]
  },
  {
   "cell_type": "markdown",
   "metadata": {},
   "source": [
    "**Задание 4**. Дана статистика рекламных каналов по объемам продаж. Напишите скрипт, который возвращает название канала с максимальным объемом.\n",
    "Т. е. в данном примере скрипт должен возвращать 'yandex'."
   ]
  },
  {
   "cell_type": "code",
   "execution_count": 23,
   "metadata": {},
   "outputs": [],
   "source": [
    "stats = {'facebook': 55, 'yandex': 120, 'vk': 115, 'google': 99, 'email': 42, 'ok': 98}"
   ]
  },
  {
   "cell_type": "code",
   "execution_count": 24,
   "metadata": {},
   "outputs": [
    {
     "name": "stdout",
     "output_type": "stream",
     "text": [
      "120\n",
      "yandex\n"
     ]
    }
   ],
   "source": [
    "max_value = 0\n",
    "name = ' '\n",
    "\n",
    "for key,value in stats.items():\n",
    "    if max_value > stats[key]:\n",
    "        continue\n",
    "    else:\n",
    "        max_value = stats[key]\n",
    "        name = key\n",
    "        \n",
    "print(max_value)\n",
    "print(name)  \n",
    "    "
   ]
  },
  {
   "cell_type": "markdown",
   "metadata": {},
   "source": [
    "**Задание 5**. Напишите код для преобразования произвольного списка вида ['2018-01-01', 'yandex', 'cpc', 100] (он может быть любой длины) в словарь {'2018-01-01': {'yandex': {'cpc': 100}}}"
   ]
  },
  {
   "cell_type": "code",
   "execution_count": 25,
   "metadata": {},
   "outputs": [],
   "source": [
    "spisok = ['2018-01-01', 'yandex', 'cpc', 100]"
   ]
  },
  {
   "cell_type": "code",
   "execution_count": 26,
   "metadata": {},
   "outputs": [
    {
     "name": "stdout",
     "output_type": "stream",
     "text": [
      "{'2018-01-01': {'yandex': {'cpc': 100}}}\n"
     ]
    }
   ],
   "source": [
    "Q = {}      #   словарь для записи промежуточного результата\n",
    "L = {}      #   словарь для записи промежуточного результата\n",
    "RESULT = {}\n",
    "\n",
    "Q[spisok[-2]] = spisok[-1]  # первый вложенный словарь (самый глубокий)\n",
    "RESULT = Q\n",
    "\n",
    "i = 3    # счетчик итераций\n",
    "\n",
    "while i != len(spisok) + 1:\n",
    "    \n",
    "    if i% 2 != 0:\n",
    "        L[spisok[-i]] = Q    #   i нечетное\n",
    "        Q = {}\n",
    "        RESULT = L\n",
    "    else:           \n",
    "        Q[spisok[-i]] = L  #   i  четное\n",
    "        L = {}\n",
    "        RESULT = Q\n",
    "        \n",
    "    i += 1\n",
    "    \n",
    "print(RESULT)   \n",
    "    "
   ]
  },
  {
   "cell_type": "code",
   "execution_count": null,
   "metadata": {},
   "outputs": [],
   "source": []
  }
 ],
 "metadata": {
  "kernelspec": {
   "display_name": "Python 3",
   "language": "python",
   "name": "python3"
  },
  "language_info": {
   "codemirror_mode": {
    "name": "ipython",
    "version": 3
   },
   "file_extension": ".py",
   "mimetype": "text/x-python",
   "name": "python",
   "nbconvert_exporter": "python",
   "pygments_lexer": "ipython3",
   "version": "3.7.3"
  }
 },
 "nbformat": 4,
 "nbformat_minor": 2
}
