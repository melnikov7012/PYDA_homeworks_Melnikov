{
 "cells": [
  {
   "cell_type": "markdown",
   "metadata": {},
   "source": [
    "**Задание 2**. Выведите на экран все уникальные гео-ID из значений словаря ids. Т. е. список вида [213, 15, 54, 119, 98, 35]"
   ]
  },
  {
   "cell_type": "code",
   "execution_count": 2,
   "metadata": {},
   "outputs": [],
   "source": [
    "ids = {'user1': [213, 213, 213, 15, 213], \n",
    "       'user2': [54, 54, 119, 119, 119], \n",
    "       'user3': [213, 98, 98, 35]}"
   ]
  },
  {
   "cell_type": "code",
   "execution_count": 3,
   "metadata": {},
   "outputs": [
    {
     "name": "stdout",
     "output_type": "stream",
     "text": [
      "[213, 15, 54, 119, 98, 35]\n"
     ]
    }
   ],
   "source": [
    "# 1-вариант, который Вы проверяли:\n",
    "\n",
    "# Ваш коментарий:\n",
    "#- \"во второй задаче так же можно было обойтись без вложенного цикла, если вспомнить, что и списки,\n",
    "# и множества можно объединять не итерируясь по их элементам. Ну и выбор словаря для накопления\n",
    "# данных тут не совсем опрадвано, достаточно будет списка/множества\"\n",
    "\n",
    "geo_dict = {} \n",
    "\n",
    "for value in ids.values():\n",
    "    for enumeration in value:          \n",
    "        geo_dict.setdefault(enumeration)\n",
    "        geo_list = list(geo_dict)\n",
    "\n",
    "print(geo_list)\n",
    "    "
   ]
  },
  {
   "cell_type": "code",
   "execution_count": 70,
   "metadata": {},
   "outputs": [
    {
     "name": "stdout",
     "output_type": "stream",
     "text": [
      "[213, 15, 54, 119, 98, 35]\n"
     ]
    }
   ],
   "source": [
    "# 2 вариант - без использования словаря:\n",
    "\n",
    "geo_list = []\n",
    "for values in ids.values():\n",
    "    for geo_id in values:\n",
    "        if geo_id in geo_list:     \n",
    "            continue \n",
    "        geo_list.append(geo_id)\n",
    "    \n",
    "print(geo_list)\n",
    "    \n",
    "    "
   ]
  },
  {
   "cell_type": "code",
   "execution_count": null,
   "metadata": {},
   "outputs": [],
   "source": [
    "Олег, не знаю, как обойтись без второго цикла.Голова уже вскипела.Все, сдаюсь...."
   ]
  }
 ],
 "metadata": {
  "kernelspec": {
   "display_name": "Python 3",
   "language": "python",
   "name": "python3"
  },
  "language_info": {
   "codemirror_mode": {
    "name": "ipython",
    "version": 3
   },
   "file_extension": ".py",
   "mimetype": "text/x-python",
   "name": "python",
   "nbconvert_exporter": "python",
   "pygments_lexer": "ipython3",
   "version": "3.7.3"
  }
 },
 "nbformat": 4,
 "nbformat_minor": 2
}
