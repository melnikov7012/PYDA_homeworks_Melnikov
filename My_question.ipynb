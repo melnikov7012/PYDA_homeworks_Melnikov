{
 "cells": [
  {
   "cell_type": "markdown",
   "metadata": {},
   "source": [
    "Олег, добрый день!\n",
    "Почему после f - строки дальнейший текст красный?\n",
    "Вроде программка работает, но в функцию ее заключить не получается."
   ]
  },
  {
   "cell_type": "code",
   "execution_count": 1,
   "metadata": {},
   "outputs": [],
   "source": [
    "documents = [\n",
    "    {'type': 'passport', 'number': '2207 876234', 'name': 'Василий Гупкин'},\n",
    "    {'type': 'invoice', 'number': '11-2', 'name': 'Геннадий Покемонов'},\n",
    "    {'type': 'insurance', 'number': '10006', 'name': 'Аристарх Павлов'}\n",
    "]"
   ]
  },
  {
   "cell_type": "code",
   "execution_count": 3,
   "metadata": {},
   "outputs": [
    {
     "name": "stdout",
     "output_type": "stream",
     "text": [
      " passport  \"2207 876234\"  Василий Гупкин \n",
      " invoice  \"11-2\"  Геннадий Покемонов \n",
      " insurance  \"10006\"  Аристарх Павлов \n"
     ]
    }
   ],
   "source": [
    "# l – list – команда, которая выведет список всех документов в формате passport \"2207 876234\" \"Василий Гупкин\n",
    "\n",
    "for docum in documents:\n",
    "    \n",
    "    result = (f\"\"\" {docum['type']}  \"{docum['number']}\"  {docum['name']} \"\"\")\n",
    "    \n",
    "    print(result)\n",
    "    "
   ]
  },
  {
   "cell_type": "code",
   "execution_count": null,
   "metadata": {},
   "outputs": [],
   "source": []
  }
 ],
 "metadata": {
  "kernelspec": {
   "display_name": "Python 3",
   "language": "python",
   "name": "python3"
  },
  "language_info": {
   "codemirror_mode": {
    "name": "ipython",
    "version": 3
   },
   "file_extension": ".py",
   "mimetype": "text/x-python",
   "name": "python",
   "nbconvert_exporter": "python",
   "pygments_lexer": "ipython3",
   "version": "3.7.3"
  }
 },
 "nbformat": 4,
 "nbformat_minor": 2
}
