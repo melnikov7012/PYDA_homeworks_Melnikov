{
 "cells": [
  {
   "cell_type": "markdown",
   "metadata": {},
   "source": [
    "**Задание 1**. Даны 2 строки: *long_phrase* и *short_phrase*. \n",
    "Напишите код, который проверяет действительно ли длинная фраза *long_phrase* длиннее короткой *short_phrase*. И выводит *True* или *False* в зависимости от результата сравнения."
   ]
  },
  {
   "cell_type": "code",
   "execution_count": 3,
   "metadata": {},
   "outputs": [],
   "source": [
    "long_phrase = 'Насколько проще было бы писать программы, если бы не заказчики'\n",
    "short_phrase = '640Кб должно хватить для любых задач. Билл Гейтс (по легенде)'"
   ]
  },
  {
   "cell_type": "code",
   "execution_count": 13,
   "metadata": {},
   "outputs": [
    {
     "data": {
      "text/plain": [
       "True"
      ]
     },
     "execution_count": 13,
     "metadata": {},
     "output_type": "execute_result"
    }
   ],
   "source": [
    "len(long_phrase) > len(short_phrase)\n"
   ]
  },
  {
   "cell_type": "markdown",
   "metadata": {},
   "source": [
    "**Задание 2**. Дано значение объема файла в байтах (*в мегабайте 2^20 байт*). Напишите перевод этого значения в мегабайты в формате: \"*Объем файла равен 213.68Mb*\"."
   ]
  },
  {
   "cell_type": "code",
   "execution_count": 16,
   "metadata": {},
   "outputs": [
    {
     "name": "stdout",
     "output_type": "stream",
     "text": [
      "Объем файла равен 213.68 Mb\n"
     ]
    }
   ],
   "source": [
    "VolumeByte=224059392\n",
    "VolumeMb=round((VolumeByte / (1024 * 1024)),2)\n",
    "print('Объем файла равен',VolumeMb,'Mb')"
   ]
  },
  {
   "cell_type": "markdown",
   "metadata": {},
   "source": [
    "**Задание 3**. Разработать приложение для определения знака зодиака по дате рождения. Пример:\n",
    "\n",
    "Введите месяц: март\n",
    "\n",
    "Введите число: 6\n",
    "\n",
    "Вывод:\n",
    "Рыбы"
   ]
  },
  {
   "cell_type": "code",
   "execution_count": 1,
   "metadata": {},
   "outputs": [
    {
     "name": "stdout",
     "output_type": "stream",
     "text": [
      "Введите месяц:   март\n",
      "Введите число:   6\n",
      "Рыбы\n",
      "Конец программы\n"
     ]
    }
   ],
   "source": [
    "# правильное написание названия месяца без пробелов и со строчной буквы:январь,февраль,март,апрель,май,июнь,\n",
    "# июль,август,сентябрь,октябрь,ноябрь,декабрь.\n",
    "month = input('Введите месяц:   ')     \n",
    "date = int(input('Введите число:   '))\n",
    "if month=='январь' and 1<=date<=19 or month=='декабрь' and 22<=date<=31:\n",
    "    print('Козерог')\n",
    "elif month=='февраль' and 1<=date<=19 or month=='январь' and 20<=date<=31:\n",
    "    print('Водолей')\n",
    "elif month=='март' and 1<=date<=21 or month=='февраль' and 20<=date<=29:\n",
    "    print('Рыбы')\n",
    "elif month=='апрель' and 1<=date<=21 or month=='март' and 22<=date<=31:\n",
    "    print('Овен')\n",
    "elif month=='май' and 1<=date<=21 or month=='апрель' and 22<=date<=30:\n",
    "    print('Телец')\n",
    "elif month=='июнь' and 1<=date<=21 or month=='май' and 22<=date<=31:\n",
    "    print('Близнецы')\n",
    "elif month=='июль' and 1<=date<=21 or month=='июнь' and 22<=date<=30:\n",
    "    print('Рак')\n",
    "elif month=='август' and 1<=date<=21 or month=='июль' and 22<=date<=31:\n",
    "    print('Лев')\n",
    "elif month=='сентябрь' and 1<=date<=21 or month=='август' and 22<=date<=31:\n",
    "    print('дева')\n",
    "elif month=='октябрь' and 1<=date<=21 or month=='сентябрь' and 22<=date<=30:\n",
    "    print('Весы')\n",
    "elif month=='ноябрь' and 1<=date<=20 or month=='октябрь' and 22<=date<=31:\n",
    "    print('Скорпион')\n",
    "elif month=='декабрь' and 1<=date<=21 or month=='ноябрь' and 21<=date<=30:\n",
    "    print('Стрелец')\n",
    "else:\n",
    "    print('Ошибка ввода данных') \n",
    "print('Конец программы')"
   ]
  },
  {
   "cell_type": "markdown",
   "metadata": {},
   "source": [
    "**Задание 4**. Нужно разработать приложение для финансового планирования.\n",
    "Приложение учитывает сколько уходит на ипотеку, \"на жизнь\" и сколько нужно отложить на пенсию.\n",
    "Пользователь вводит:\n",
    "- заработанную плату в месяц.\n",
    "- сколько процентов от ЗП уходит на ипотеку.\n",
    "- сколько процентов от ЗП уходит \"на жизнь\".\n",
    "- сколько раз приходит премия в год.\n",
    "\n",
    "Остальная часть заработанной платы откладывается на пенсию.\n",
    "\n",
    "Также пользователю приходит премия в размере зарплаты, от которой половина уходит на отпуск, а вторая половина откладывается.\n",
    "\n",
    "Программа должна учитывать сколько премий было в год.\n",
    "\n",
    "Нужно вывести сколько денег тратит пользователь на ипотеку и сколько он накопит за год.\n",
    "\n",
    "Пример:\n",
    "\n",
    "Введите заработанную плату в месяц: 100000\n",
    "\n",
    "Введите сколько процентов уходит на ипотеку: 30\n",
    "\n",
    "Введите сколько процентов уходит на жизнь: 50\n",
    "\n",
    "Введите количество премий за год: 2\n",
    "\n",
    "Вывод:\n",
    "На ипотеку было потрачено: 360000 рублей\n",
    "Было накоплено: 340000 рублей"
   ]
  },
  {
   "cell_type": "code",
   "execution_count": 3,
   "metadata": {},
   "outputs": [
    {
     "name": "stdout",
     "output_type": "stream",
     "text": [
      "Введите заработанную плату в месяц:  100000\n",
      "Введите сколько процентов уходит на ипотеку:  30\n",
      "Введите сколько процентов уходит на жизнь:  50\n",
      "Введите количество премий за год:  2\n",
      "Вывод: На ипотеку было потрачено 360000.0 рублей.Было накоплено: 340000.0 рублей.\n",
      "Конец программы\n"
     ]
    }
   ],
   "source": [
    "zpmes=int(input('Введите заработанную плату в месяц:  '))\n",
    "ipotprots=int(input('Введите сколько процентов уходит на ипотеку:  ')) \n",
    "lifeprots=int(input('Введите сколько процентов уходит на жизнь:  '))\n",
    "bonus=int(input('Введите количество премий за год:  ')) \n",
    "\n",
    "ipoteka=round((zpmes*ipotprots*12/100),2)\n",
    "pensia=round((12*zpmes*(100-ipotprots-lifeprots)/100 + bonus*zpmes*0.5),2)\n",
    "print('Вывод: На ипотеку было потрачено',ipoteka,'рублей.Было накоплено:',pensia,'рублей.')\n",
    "print('Конец программы')"
   ]
  },
  {
   "cell_type": "code",
   "execution_count": null,
   "metadata": {},
   "outputs": [],
   "source": []
  }
 ],
 "metadata": {
  "kernelspec": {
   "display_name": "Python 3",
   "language": "python",
   "name": "python3"
  },
  "language_info": {
   "codemirror_mode": {
    "name": "ipython",
    "version": 3
   },
   "file_extension": ".py",
   "mimetype": "text/x-python",
   "name": "python",
   "nbconvert_exporter": "python",
   "pygments_lexer": "ipython3",
   "version": "3.7.3"
  }
 },
 "nbformat": 4,
 "nbformat_minor": 2
}
