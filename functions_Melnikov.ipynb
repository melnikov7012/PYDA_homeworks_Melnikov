{
 "cells": [
  {
   "cell_type": "markdown",
   "metadata": {},
   "source": [
    "Вы работаете секретарем и вам постоянно приходят различные документы. Вы должны быть очень внимательны, чтобы не потерять ни один документ. Каталог документов хранится в следующем виде:"
   ]
  },
  {
   "cell_type": "code",
   "execution_count": 74,
   "metadata": {},
   "outputs": [],
   "source": [
    "documents = [\n",
    "    {'type': 'passport', 'number': '2207 876234', 'name': 'Василий Гупкин'},\n",
    "    {'type': 'invoice', 'number': '11-2', 'name': 'Геннадий Покемонов'},\n",
    "    {'type': 'insurance', 'number': '10006', 'name': 'Аристарх Павлов'}\n",
    "]"
   ]
  },
  {
   "cell_type": "markdown",
   "metadata": {},
   "source": [
    "Перечень полок, на которых находятся документы хранится в следующем виде:"
   ]
  },
  {
   "cell_type": "code",
   "execution_count": 75,
   "metadata": {},
   "outputs": [],
   "source": [
    "directories = {\n",
    "    '1': ['2207 876234', '11-2'],\n",
    "    '2': ['10006'],\n",
    "    '3': []\n",
    "}"
   ]
  },
  {
   "cell_type": "markdown",
   "metadata": {},
   "source": [
    "Необходимо реализовать пользовательские команды (внимание! это не название функций, которые должны быть выразительными, а команды, которые вводит пользователь, чтобы получить необходимый результат):\n",
    "  \n",
    "- p – people – команда, которая спросит номер документа и выведет имя человека, которому он принадлежит;  \n",
    "- s – shelf – команда, которая спросит номер документа и выведет номер полки, на которой он находится  \n",
    "Правильно обработайте ситуацию, когда пользователь будет вводить несуществующий документ.\n",
    "- l – list – команда, которая выведет список всех документов в формате   \n",
    "**passport \"2207 876234\" \"Василий Гупкин\"**  \n",
    "- as – add shelf – команда, которая спросит номер новой полки и добавит ее в перечень\n",
    "- d – delete – команда, которая спросит номер документа и удалит его из каталога и из перечня полок. Предусмотрите сценарий, когда пользователь вводит несуществующий документ;  \n",
    "- m – move – команда, которая спросит номер документа и целевую полку и переместит его с текущей полки на целевую. Корректно обработайте кейсы, когда пользователь пытается переместить несуществующий документ или переместить документ на несуществующую полку;  \n",
    "- a – add – команда, которая добавит новый документ в каталог и в перечень полок, спросив его номер, тип, имя владельца и номер полки, на котором он будет храниться."
   ]
  },
  {
   "cell_type": "code",
   "execution_count": 76,
   "metadata": {},
   "outputs": [],
   "source": [
    "# - проверка правильности ввода номера документа\n",
    "\n",
    "def num_check(num_doc):\n",
    "    \n",
    "    for docum in documents:\n",
    "        if docum['number'] == num_doc:\n",
    "            result = docum['number']\n",
    "            break\n",
    "        result = 0\n",
    "    return result    \n",
    "\n"
   ]
  },
  {
   "cell_type": "code",
   "execution_count": 77,
   "metadata": {},
   "outputs": [],
   "source": [
    "# - удаление номера документа из перечня полок\n",
    "\n",
    "def del_num_doc(num_doc):\n",
    "    for key,valye in directories.items():\n",
    "        index = 0\n",
    "        for number in directories[key]:   \n",
    "            if number == num_doc:\n",
    "                num_test = 1\n",
    "                del(directories[key][index])   \n",
    "            index += 1\n",
    "    return directories\n"
   ]
  },
  {
   "cell_type": "code",
   "execution_count": 78,
   "metadata": {},
   "outputs": [],
   "source": [
    " # p – people \n",
    "\n",
    "def people(num_doc):  \n",
    "    \n",
    "    if num_doc == 0:\n",
    "        result = 'Номер не существует'  \n",
    "    for docum in documents:\n",
    "        if docum['number'] == num_doc:\n",
    "            result  = docum['name']\n",
    "            break\n",
    "    return result\n"
   ]
  },
  {
   "cell_type": "code",
   "execution_count": 79,
   "metadata": {},
   "outputs": [],
   "source": [
    "# s – shelf \n",
    "\n",
    "def shelf(num_doc):\n",
    "    \n",
    "    if num_doc == 0:\n",
    "        result = 'Номер не существует'  \n",
    "    for key,valye in directories.items():\n",
    "        if num_doc in directories[key]:\n",
    "            result = key\n",
    "            break\n",
    "    return result\n"
   ]
  },
  {
   "cell_type": "code",
   "execution_count": 80,
   "metadata": {},
   "outputs": [],
   "source": [
    "# l – list\n",
    "\n",
    "def l_list(documents):\n",
    "    \n",
    "    for docum in documents:\n",
    "        result = print(docum['type'],' \"',docum['number'],'\" ',docum['name'] )\n",
    "    return result\n",
    "   "
   ]
  },
  {
   "cell_type": "code",
   "execution_count": 81,
   "metadata": {},
   "outputs": [],
   "source": [
    "# as – add shelf\n",
    "\n",
    "def add_shelf(num_shelf):\n",
    "\n",
    "    directories.setdefault(num_shelf,[])\n",
    "    return directories\n"
   ]
  },
  {
   "cell_type": "code",
   "execution_count": 82,
   "metadata": {},
   "outputs": [],
   "source": [
    "# d – delete \n",
    "\n",
    "\n",
    "def num_delete(num_doc):\n",
    "    if num_doc == 0:\n",
    "        result = 'Номер не существует'  \n",
    "    else:\n",
    "        \n",
    "        doc = 0\n",
    "        for docum in documents:\n",
    "            if docum['number'] == num_doc:\n",
    "                del(documents[doc])\n",
    "            doc += 1\n",
    "        del_num_doc(num_doc)\n",
    "        \n",
    "        result = documents, directories\n",
    "    return result \n"
   ]
  },
  {
   "cell_type": "code",
   "execution_count": 83,
   "metadata": {},
   "outputs": [],
   "source": [
    "# m – move\n",
    "\n",
    "def move(num_doc,new_shelf):\n",
    "    if num_doc == 0:\n",
    "        result = 'Номер не существует'  \n",
    "    elif new_shelf not in directories:\n",
    "        result = 'Такой полки не существует'\n",
    "    else:\n",
    "        del_num_doc(num_doc)\n",
    "        \n",
    "        directories[new_shelf].append(num_doc)\n",
    "        result = directories\n",
    "\n",
    "    return result\n",
    "\n"
   ]
  },
  {
   "cell_type": "code",
   "execution_count": 84,
   "metadata": {},
   "outputs": [],
   "source": [
    " # a – add \n",
    "\n",
    "def add(type_new,number_new,name_new,shelf):\n",
    "        \n",
    "    if shelf not in directories:\n",
    "        result = 'Такой полки не существует'\n",
    "    else:\n",
    "        new = dict(type = type_new,number = number_new,name = name_new)\n",
    "        documents.append(new)\n",
    "        directories[shelf].append(new['number'])\n",
    "        result = documents,directories\n",
    "    \n",
    "    return result\n",
    "\n",
    "\n",
    "\n"
   ]
  },
  {
   "cell_type": "code",
   "execution_count": 85,
   "metadata": {},
   "outputs": [
    {
     "name": "stdout",
     "output_type": "stream",
     "text": [
      "Введите команду: l\n",
      "passport  \" 2207 876234 \"  Василий Гупкин\n",
      "invoice  \" 11-2 \"  Геннадий Покемонов\n",
      "insurance  \" 10006 \"  Аристарх Павлов\n"
     ]
    }
   ],
   "source": [
    "command = input('Введите команду: ')\n",
    "if command == 'p':\n",
    "    print(people(num_check(input('Введите № документа: '))))\n",
    "elif command == 's':\n",
    "    print(shelf(num_check(input('Введите № документа: '))))\n",
    "elif command == 'l':\n",
    "    l_list(documents)    \n",
    "elif command == 'as':\n",
    "    print(add_shelf(input('Введите № полки: ')))\n",
    "elif command == 'd':\n",
    "    print(num_delete(num_check(input('Введите № документа: '))))\n",
    "elif command == 'm':\n",
    "    print(move(num_check(input('Введите № документа: ')),input('Введите № полки: ')))\n",
    "elif command == 'a':\n",
    "    print(add(type_new = input('Введите тип документа: '),number_new = input('Введите № документа: '),\\\n",
    "name_new = input('Введите имя: '),shelf = input('Введите номер полки: ')))\n",
    "else:\n",
    "    print('Ошибка ввода данных')\n"
   ]
  },
  {
   "cell_type": "code",
   "execution_count": null,
   "metadata": {},
   "outputs": [],
   "source": []
  }
 ],
 "metadata": {
  "kernelspec": {
   "display_name": "Python 3",
   "language": "python",
   "name": "python3"
  },
  "language_info": {
   "codemirror_mode": {
    "name": "ipython",
    "version": 3
   },
   "file_extension": ".py",
   "mimetype": "text/x-python",
   "name": "python",
   "nbconvert_exporter": "python",
   "pygments_lexer": "ipython3",
   "version": "3.7.3"
  }
 },
 "nbformat": 4,
 "nbformat_minor": 2
}
